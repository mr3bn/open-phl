{
 "cells": [
  {
   "cell_type": "code",
   "execution_count": 15,
   "metadata": {},
   "outputs": [],
   "source": [
    "import os\n",
    "\n",
    "import pandas as pd\n",
    "import plotly.express as px"
   ]
  },
  {
   "cell_type": "code",
   "execution_count": 7,
   "metadata": {},
   "outputs": [
    {
     "data": {
      "text/plain": [
       "'/Users/mrossi/code/open-phl/data'"
      ]
     },
     "execution_count": 7,
     "metadata": {},
     "output_type": "execute_result"
    }
   ],
   "source": [
    "os.chdir('/Users/mrossi/code/open-phl/data')"
   ]
  },
  {
   "cell_type": "code",
   "execution_count": 12,
   "metadata": {},
   "outputs": [],
   "source": [
    "permit_blocks = pd.read_csv('residential_parking_permit_blocks.csv')"
   ]
  },
  {
   "cell_type": "code",
   "execution_count": 13,
   "metadata": {},
   "outputs": [
    {
     "data": {
      "text/html": [
       "<div>\n",
       "<style scoped>\n",
       "    .dataframe tbody tr th:only-of-type {\n",
       "        vertical-align: middle;\n",
       "    }\n",
       "\n",
       "    .dataframe tbody tr th {\n",
       "        vertical-align: top;\n",
       "    }\n",
       "\n",
       "    .dataframe thead th {\n",
       "        text-align: right;\n",
       "    }\n",
       "</style>\n",
       "<table border=\"1\" class=\"dataframe\">\n",
       "  <thead>\n",
       "    <tr style=\"text-align: right;\">\n",
       "      <th></th>\n",
       "      <th>the_geom</th>\n",
       "      <th>lng</th>\n",
       "      <th>street</th>\n",
       "      <th>city</th>\n",
       "      <th>state</th>\n",
       "      <th>latitude</th>\n",
       "      <th>the_geom_webmercator</th>\n",
       "      <th>district_number</th>\n",
       "      <th>block</th>\n",
       "      <th>side</th>\n",
       "      <th>lat</th>\n",
       "      <th>longitude</th>\n",
       "    </tr>\n",
       "  </thead>\n",
       "  <tbody>\n",
       "    <tr>\n",
       "      <th>0</th>\n",
       "      <td>0101000020E6100000F8C4FFF210C952C0D05BCD8BEAF9...</td>\n",
       "      <td>-75.141659</td>\n",
       "      <td>N FRONT ST</td>\n",
       "      <td>Philadelphia</td>\n",
       "      <td>PA</td>\n",
       "      <td>39.952470</td>\n",
       "      <td>0101000020110F0000399273D1AEE85FC16CFAAE722789...</td>\n",
       "      <td>10</td>\n",
       "      <td>99</td>\n",
       "      <td>W/S</td>\n",
       "      <td>39.952470</td>\n",
       "      <td>-75.141659</td>\n",
       "    </tr>\n",
       "    <tr>\n",
       "      <th>1</th>\n",
       "      <td>0101000020E610000028A7C35EF6CE52C04835024AB3FC...</td>\n",
       "      <td>-75.233787</td>\n",
       "      <td>N ITHAN ST</td>\n",
       "      <td>Philadelphia</td>\n",
       "      <td>PA</td>\n",
       "      <td>39.974221</td>\n",
       "      <td>0101000020110F00007CF9B7B8B2F25FC12EA6E83A3D8C...</td>\n",
       "      <td>3</td>\n",
       "      <td>99</td>\n",
       "      <td>W/S</td>\n",
       "      <td>39.974221</td>\n",
       "      <td>-75.233787</td>\n",
       "    </tr>\n",
       "    <tr>\n",
       "      <th>2</th>\n",
       "      <td>0101000020E61000006C6376C0BCCE52C0B0F135781DFA...</td>\n",
       "      <td>-75.230270</td>\n",
       "      <td>PINE ST</td>\n",
       "      <td>Philadelphia</td>\n",
       "      <td>PA</td>\n",
       "      <td>39.954024</td>\n",
       "      <td>0101000020110F00006BC2D8D950F25FC1BD8C0ADE5F89...</td>\n",
       "      <td>1</td>\n",
       "      <td>2500</td>\n",
       "      <td>B/S</td>\n",
       "      <td>39.954024</td>\n",
       "      <td>-75.230270</td>\n",
       "    </tr>\n",
       "    <tr>\n",
       "      <th>3</th>\n",
       "      <td>0101000020E61000009484B8303AC952C010FF113C74F8...</td>\n",
       "      <td>-75.144177</td>\n",
       "      <td>S 13TH ST</td>\n",
       "      <td>Philadelphia</td>\n",
       "      <td>PA</td>\n",
       "      <td>39.941047</td>\n",
       "      <td>0101000020110F0000E0DACDDEF4E85FC1C28F48C78887...</td>\n",
       "      <td>24</td>\n",
       "      <td>2000</td>\n",
       "      <td>B/S</td>\n",
       "      <td>39.941047</td>\n",
       "      <td>-75.144177</td>\n",
       "    </tr>\n",
       "    <tr>\n",
       "      <th>4</th>\n",
       "      <td>0101000020E61000006C6376C0BCCE52C0B0F135781DFA...</td>\n",
       "      <td>-75.230270</td>\n",
       "      <td>PINE ST</td>\n",
       "      <td>Philadelphia</td>\n",
       "      <td>PA</td>\n",
       "      <td>39.954024</td>\n",
       "      <td>0101000020110F00006BC2D8D950F25FC1BD8C0ADE5F89...</td>\n",
       "      <td>2</td>\n",
       "      <td>4200</td>\n",
       "      <td>S/S</td>\n",
       "      <td>39.954024</td>\n",
       "      <td>-75.230270</td>\n",
       "    </tr>\n",
       "  </tbody>\n",
       "</table>\n",
       "</div>"
      ],
      "text/plain": [
       "                                            the_geom        lng      street  \\\n",
       "0  0101000020E6100000F8C4FFF210C952C0D05BCD8BEAF9... -75.141659  N FRONT ST   \n",
       "1  0101000020E610000028A7C35EF6CE52C04835024AB3FC... -75.233787  N ITHAN ST   \n",
       "2  0101000020E61000006C6376C0BCCE52C0B0F135781DFA... -75.230270     PINE ST   \n",
       "3  0101000020E61000009484B8303AC952C010FF113C74F8... -75.144177   S 13TH ST   \n",
       "4  0101000020E61000006C6376C0BCCE52C0B0F135781DFA... -75.230270     PINE ST   \n",
       "\n",
       "           city state   latitude  \\\n",
       "0  Philadelphia    PA  39.952470   \n",
       "1  Philadelphia    PA  39.974221   \n",
       "2  Philadelphia    PA  39.954024   \n",
       "3  Philadelphia    PA  39.941047   \n",
       "4  Philadelphia    PA  39.954024   \n",
       "\n",
       "                                the_geom_webmercator  district_number block  \\\n",
       "0  0101000020110F0000399273D1AEE85FC16CFAAE722789...               10    99   \n",
       "1  0101000020110F00007CF9B7B8B2F25FC12EA6E83A3D8C...                3    99   \n",
       "2  0101000020110F00006BC2D8D950F25FC1BD8C0ADE5F89...                1  2500   \n",
       "3  0101000020110F0000E0DACDDEF4E85FC1C28F48C78887...               24  2000   \n",
       "4  0101000020110F00006BC2D8D950F25FC1BD8C0ADE5F89...                2  4200   \n",
       "\n",
       "  side        lat  longitude  \n",
       "0  W/S  39.952470 -75.141659  \n",
       "1  W/S  39.974221 -75.233787  \n",
       "2  B/S  39.954024 -75.230270  \n",
       "3  B/S  39.941047 -75.144177  \n",
       "4  S/S  39.954024 -75.230270  "
      ]
     },
     "execution_count": 13,
     "metadata": {},
     "output_type": "execute_result"
    }
   ],
   "source": [
    "permit_blocks.head()"
   ]
  },
  {
   "cell_type": "code",
   "execution_count": 14,
   "metadata": {},
   "outputs": [
    {
     "data": {
      "text/plain": [
       "(1342, 12)"
      ]
     },
     "execution_count": 14,
     "metadata": {},
     "output_type": "execute_result"
    }
   ],
   "source": [
    "permit_blocks.shape"
   ]
  },
  {
   "cell_type": "code",
   "execution_count": 16,
   "metadata": {},
   "outputs": [],
   "source": [
    "px.set_mapbox_access_token('pk.eyJ1IjoibXIzYm4iLCJhIjoiY2s2NTg3ZGY5MHVvcDNrcWp6dmtyNG5xaCJ9.gM39D3VanwWJ6OS45RWORg')"
   ]
  },
  {
   "cell_type": "code",
   "execution_count": 20,
   "metadata": {},
   "outputs": [],
   "source": [
    "fig = px.scatter_mapbox(permit_blocks, lat='latitude', lon='lng', color='district_number', hover_data=['side', 'block', 'street'])\n",
    "fig.show(renderer='browser')"
   ]
  }
 ],
 "metadata": {
  "kernelspec": {
   "display_name": "Python 3.8.0 64-bit ('sandbox': conda)",
   "language": "python",
   "name": "python38064bitsandboxconda8946f5a83b2a44189e8137474ebec95e"
  },
  "language_info": {
   "codemirror_mode": {
    "name": "ipython",
    "version": 3
   },
   "file_extension": ".py",
   "mimetype": "text/x-python",
   "name": "python",
   "nbconvert_exporter": "python",
   "pygments_lexer": "ipython3",
   "version": "3.8.0"
  }
 },
 "nbformat": 4,
 "nbformat_minor": 2
}
